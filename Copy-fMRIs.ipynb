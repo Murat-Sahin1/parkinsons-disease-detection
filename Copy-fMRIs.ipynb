{
 "cells": [
  {
   "cell_type": "markdown",
   "id": "97ce87c6-1e50-4d54-b033-c7e96470656e",
   "metadata": {},
   "source": [
    "#### Combine fMRIs into one folder"
   ]
  },
  {
   "cell_type": "code",
   "execution_count": 32,
   "id": "78b3a363-4589-4d4a-ac27-29166cf3e6df",
   "metadata": {},
   "outputs": [],
   "source": [
    "import os\n",
    "import shutil"
   ]
  },
  {
   "cell_type": "code",
   "execution_count": 37,
   "id": "01582bc8-ff87-42d5-b559-3d93c92fbe3f",
   "metadata": {},
   "outputs": [],
   "source": [
    "def copy_to_destination():\n",
    "    directory = 'Taowu_version-1.0/Taowu_version-1.0/taowu/'\n",
    "    prefix = '/anat/'\n",
    "    destination = 'Taowu_patient_fMRIs/'\n",
    "    for entry in os.listdir(directory):\n",
    "        entry_path = os.path.join(directory, entry)\n",
    "        if not os.path.isfile(entry_path):\n",
    "            entry_path = entry_path + prefix\n",
    "            for filename in os.listdir(entry_path):\n",
    "                file_path = entry_path + filename\n",
    "                if os.path.isfile(file_path) and file_path.endswith('.nii.gz'):\n",
    "                    print('Copying \"' + filename + '\" into the path: ' + destination)\n",
    "                    shutil.copy(file_path, destination)"
   ]
  },
  {
   "cell_type": "code",
   "execution_count": 43,
   "id": "39f8b8f3-aace-4dc1-b340-3116ff09666d",
   "metadata": {},
   "outputs": [
    {
     "name": "stdout",
     "output_type": "stream",
     "text": [
      "There are files in the destination folder. Aborting.\n"
     ]
    }
   ],
   "source": [
    "def run():\n",
    "    if not os.listdir(destination):\n",
    "        copy_to_destination()\n",
    "    else:\n",
    "        print(\"There are files in the destination folder. Aborting.\")\n",
    "        return\n",
    "\n",
    "run()\n"
   ]
  },
  {
   "cell_type": "code",
   "execution_count": null,
   "id": "c41d65e7-0c5e-4599-8f21-d64f008397ff",
   "metadata": {},
   "outputs": [],
   "source": []
  }
 ],
 "metadata": {
  "kernelspec": {
   "display_name": "Python 3 (ipykernel)",
   "language": "python",
   "name": "python3"
  },
  "language_info": {
   "codemirror_mode": {
    "name": "ipython",
    "version": 3
   },
   "file_extension": ".py",
   "mimetype": "text/x-python",
   "name": "python",
   "nbconvert_exporter": "python",
   "pygments_lexer": "ipython3",
   "version": "3.12.3"
  }
 },
 "nbformat": 4,
 "nbformat_minor": 5
}
